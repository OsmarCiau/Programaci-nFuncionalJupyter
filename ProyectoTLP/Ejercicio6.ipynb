{
 "cells": [
  {
   "cell_type": "markdown",
   "id": "ec4c482a-2cd3-44d6-9967-4a578c9276e5",
   "metadata": {},
   "source": [
    "6. Realizar una función recursiva que elimine un elemento de una lista"
   ]
  },
  {
   "cell_type": "markdown",
   "id": "930b26df-b7ba-4708-88cf-699780eef395",
   "metadata": {},
   "source": [
    "Entradas: La función toma dos argumentos: elemento, que es el elemento que se va a eliminar, y lista, que es la lista de la que se eliminará el elemento. (Agregar la lista de esta forma '( 1 2 ... )' sin comillas)"
   ]
  },
  {
   "cell_type": "markdown",
   "id": "a06cc4e8-87c3-45d5-bc24-444e717972c6",
   "metadata": {},
   "source": [
    "Cómo funciona el código:\n",
    "\n",
    "1.\tLa función verifica si la lista está vacía utilizando la función null?. Si la lista está vacía, devuelve una lista vacía.\n",
    "\n",
    "2.\tSi la lista no está vacía, la función compara el primer elemento de la lista con el elemento que se va a eliminar, si son iguales, la función se llama a sí misma recursivamente con el resto de la lista, es decir, la lista sin el primer elemento. \n",
    "\n",
    "3.\tSi el primer elemento de la lista no es igual al elemento que se va a eliminar, la función elimina añade el primer elemento al principio de la lista resultante de llamar a sí misma recursivamente con el resto de la lista, esto tiene el efecto de mantener el primer elemento en la lista.\n",
    "\n",
    "4.\tRepite el proceso comparando todos los elementos de la lista para eliminarlos\n"
   ]
  },
  {
   "cell_type": "code",
   "execution_count": 1,
   "id": "7590a99e-b910-4665-930f-fd6178bc37eb",
   "metadata": {},
   "outputs": [
    {
     "name": "stdout",
     "output_type": "stream",
     "text": [
      "Introduce la lista de números: "
     ]
    },
    {
     "name": "stdin",
     "output_type": "stream",
     "text": [
      " (1 2 3 4)\n"
     ]
    },
    {
     "name": "stdout",
     "output_type": "stream",
     "text": [
      "Introduce el elemento a eliminar: "
     ]
    },
    {
     "name": "stdin",
     "output_type": "stream",
     "text": [
      " 3\n"
     ]
    },
    {
     "name": "stdout",
     "output_type": "stream",
     "text": [
      "Lista resultante después de eliminar 3: (1 2 4)\n"
     ]
    }
   ],
   "source": [
    "(define (elimina elemento lista)\n",
    "  (cond\n",
    "    ((null? lista) '())\n",
    "    ((= (car lista) elemento) (elimina elemento (cdr lista)))\n",
    "    (else (cons (car lista) (elimina elemento (cdr lista))))))\n",
    "\n",
    "(display \"Introduce la lista de números: \")\n",
    "(define lista (read))\n",
    "\n",
    "(display \"Introduce el elemento a eliminar: \")\n",
    "(define elemento-eliminar (read))\n",
    "\n",
    "(printf \"Lista resultante después de eliminar ~a: ~a\\n\" elemento-eliminar (elimina elemento-eliminar lista))"
   ]
  },
  {
   "cell_type": "markdown",
   "id": "9e879fbe-a4b0-405b-9b97-93131bba23c6",
   "metadata": {},
   "source": [
    "Salida: La función devuelve una nueva lista que contiene todos los elementos de la lista original, excepto las ocurrencias del elemento especificado."
   ]
  }
 ],
 "metadata": {
  "kernelspec": {
   "display_name": "Racket",
   "language": "racket",
   "name": "racket"
  },
  "language_info": {
   "codemirror_mode": "scheme",
   "file_extension": ".rkt",
   "mimetype": "text/x-racket",
   "name": "Racket",
   "pygments_lexer": "racket",
   "version": "8.12"
  }
 },
 "nbformat": 4,
 "nbformat_minor": 5
}
