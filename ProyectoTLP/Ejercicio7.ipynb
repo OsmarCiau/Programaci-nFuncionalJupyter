{
 "cells": [
  {
   "cell_type": "markdown",
   "id": "946b7847-c4ec-41ed-aa9c-1e53c4912b8e",
   "metadata": {},
   "source": [
    "7. Dado un número entero positivo, realizar una función recursiva que devuelva verdadero (#t) si el número dado es un palíndromo, en caso contrario, retornar falso (#f). "
   ]
  },
  {
   "cell_type": "markdown",
   "id": "4d97c207-8d4b-4757-b180-d3e9acaaa61d",
   "metadata": {},
   "source": [
    "El problema consiste en verificar si un número es un palíndromo, un número es un palíndromo si se lee igual de izquierda a derecha que de derecha a izquierda."
   ]
  },
  {
   "cell_type": "markdown",
   "id": "6b4ecc0a-678a-4625-814b-a617e716f090",
   "metadata": {},
   "source": [
    "Entradas: La función toma un número entero n como argumento."
   ]
  },
  {
   "cell_type": "markdown",
   "id": "cab92717-16e6-40ba-a26d-ea78328776d3",
   "metadata": {},
   "source": [
    "Cómo funciona el código:\n",
    "\n",
    "1.\tLa función numero-a-lista convierte un número en una lista de dígitos: Si el número es menor que 10, devuelve una lista que contiene solo el número, si el número es mayor o igual que 10, llama a sí misma recursivamente con el cociente de la división del número por 10, y luego añade el residuo de la división del número por 10 al final de la lista.\n",
    "\n",
    "2.\tLa función comparar-listas compara dos listas para ver si son iguales: Si ambas listas están vacías, devuelve #t, si una lista está vacía y la otra no, devuelve #f, si el primer elemento de ambas listas es igual, llama a sí misma recursivamente con el resto de ambas listas y si el primer elemento de ambas listas no es igual, devuelve #f.\n",
    "\n",
    "3.\tSimplificando, la función palindromo convierte el número en una lista de dígitos, invierte la lista de dígitos, y luego compara la lista de dígitos con la lista de dígitos invertida. Si son iguales, el número es un palíndromo y la función devuelve #t, si no son iguales, el número no es un palíndromo y la función devuelve #f.\n"
   ]
  },
  {
   "cell_type": "code",
   "execution_count": 1,
   "id": "1c4ee2c1-4791-4a4b-b5f1-55705fae7b71",
   "metadata": {},
   "outputs": [
    {
     "name": "stdout",
     "output_type": "stream",
     "text": [
      "Introduce un número entero:"
     ]
    },
    {
     "name": "stdin",
     "output_type": "stream",
     "text": [
      " 4456\n"
     ]
    },
    {
     "name": "stdout",
     "output_type": "stream",
     "text": [
      "¿Es 4456 un palíndromo?: #f\n"
     ]
    }
   ],
   "source": [
    "(define (palindromo n)\n",
    "  (define (numero-a-lista n)\n",
    "    (if (< n 10)\n",
    "        (list n)\n",
    "        (append (numero-a-lista (quotient n 10)) (list (remainder n 10)))))\n",
    "\n",
    "  (define (comparar-listas lista1 lista2)\n",
    "    (cond ((and (null? lista1) (null? lista2)) #t)\n",
    "          ((or (null? lista1) (null? lista2)) #f)\n",
    "          ((= (car lista1) (car lista2))\n",
    "           (comparar-listas (cdr lista1) (cdr lista2)))\n",
    "          (else #f)))\n",
    "\n",
    "  (let* ((digitos (numero-a-lista n))\n",
    "         (digitos-invertidos (reverse digitos)))\n",
    "    (comparar-listas digitos digitos-invertidos)))\n",
    "\n",
    "(display \"Introduce un número entero:\")\n",
    "(define numero (read))\n",
    "\n",
    "(printf \"¿Es ~a un palíndromo?: ~a\\n\" numero (palindromo numero))\n"
   ]
  },
  {
   "cell_type": "markdown",
   "id": "560dbaba-ee32-40fb-a0d5-a1317979269b",
   "metadata": {},
   "source": [
    "Salida: La función devuelve #t si el número es un palíndromo y #f si no lo es."
   ]
  }
 ],
 "metadata": {
  "kernelspec": {
   "display_name": "Racket",
   "language": "racket",
   "name": "racket"
  },
  "language_info": {
   "codemirror_mode": "scheme",
   "file_extension": ".rkt",
   "mimetype": "text/x-racket",
   "name": "Racket",
   "pygments_lexer": "racket",
   "version": "8.12"
  }
 },
 "nbformat": 4,
 "nbformat_minor": 5
}
