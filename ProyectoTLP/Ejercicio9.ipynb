{
 "cells": [
  {
   "cell_type": "markdown",
   "id": "e6e827d5-fbe0-48e5-a0a8-5c63153167b3",
   "metadata": {},
   "source": [
    "9. Realizar una función recursiva que, dado un número entero decimal retorne el número binario equivalente."
   ]
  },
  {
   "cell_type": "markdown",
   "id": "a3e2880b-666f-4922-a02d-58b0a6560f5f",
   "metadata": {},
   "source": [
    "El problema consiste en convertir un número decimal a binario."
   ]
  },
  {
   "cell_type": "markdown",
   "id": "2df5c184-cd33-4ca1-8784-f55b853d941c",
   "metadata": {},
   "source": [
    "Entrada: La función decimal-a-binario toma un número entero n como argumento."
   ]
  },
  {
   "cell_type": "markdown",
   "id": "6cba191a-ce91-40d7-8d9f-c98def4af7a7",
   "metadata": {},
   "source": [
    "Cómo funciona el código:\n",
    "\n",
    "1.\tLa función decimal-a-binario verifica si n es igual a 0, si n es igual a 0, entonces la función devuelve la cadena \"0\".\n",
    "\n",
    "2.\tSi n no es igual a 0, la función decimal-a-binario llama a sí misma recursivamente con el cociente de la división de n por 2, convierte el residuo de la división de n por 2 a una cadena, y luego concatena estas dos cadenas. Esto tiene el efecto de convertir n a binario."
   ]
  },
  {
   "cell_type": "code",
   "execution_count": 1,
   "id": "9504285a-f3fa-420d-8372-d703318dc632",
   "metadata": {},
   "outputs": [
    {
     "name": "stdout",
     "output_type": "stream",
     "text": [
      "Introduce un número decimal:\n"
     ]
    },
    {
     "name": "stdin",
     "output_type": "stream",
     "text": [
      " 64\n"
     ]
    },
    {
     "name": "stdout",
     "output_type": "stream",
     "text": [
      "El equivalente binario de 64 es: 01000000\n"
     ]
    }
   ],
   "source": [
    "(define (decimal-a-binario n)\n",
    "  (if (= n 0)\n",
    "      \"0\"\n",
    "      (string-append (decimal-a-binario (quotient n 2))\n",
    "                     (number->string (remainder n 2)))))\n",
    "\n",
    "(displayln \"Introduce un número decimal:\")\n",
    "(define numero-a-convertir (read))\n",
    "\n",
    "(printf \"El equivalente binario de ~a es: ~a\\n\" numero-a-convertir (decimal-a-binario numero-a-convertir))"
   ]
  },
  {
   "cell_type": "markdown",
   "id": "5825deb1-53aa-4f0d-a51d-8ed7b8bb34e1",
   "metadata": {},
   "source": [
    "Salida: La función devuelve una cadena que representa la representación binaria de n."
   ]
  }
 ],
 "metadata": {
  "kernelspec": {
   "display_name": "Racket",
   "language": "racket",
   "name": "racket"
  },
  "language_info": {
   "codemirror_mode": "scheme",
   "file_extension": ".rkt",
   "mimetype": "text/x-racket",
   "name": "Racket",
   "pygments_lexer": "racket",
   "version": "8.12"
  }
 },
 "nbformat": 4,
 "nbformat_minor": 5
}
