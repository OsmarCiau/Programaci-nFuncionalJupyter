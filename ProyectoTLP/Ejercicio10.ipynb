{
 "cells": [
  {
   "cell_type": "markdown",
   "id": "8d3799c2-914c-4d71-9014-21800afc9fda",
   "metadata": {},
   "source": [
    "10. Utilizando la serie de Leibnitz y mediante una función recursiva, calcule el valor de PI"
   ]
  },
  {
   "cell_type": "markdown",
   "id": "ffb3d271-232b-4c2c-b60b-fbbb69236aa4",
   "metadata": {},
   "source": [
    "El problema es aproximar PI con la serie de Leibnitz, esto de forma recursiva, Racket nos permite hacerlo, pero la recursividad tiene un límite lo cual es un problema en este algoritmo."
   ]
  },
  {
   "cell_type": "markdown",
   "id": "837c1558-26c4-4720-89c4-2cbc9f0753b3",
   "metadata": {},
   "source": [
    "Entradas: La función recibe una cantidad en forma de número entero, el cual es la cantidad de iteraciones para la aproximación que se van a realizar."
   ]
  },
  {
   "cell_type": "markdown",
   "id": "ccc5f805-9748-48a6-8e40-9e6154a362f3",
   "metadata": {},
   "source": [
    "Cómo funciona el código:\n",
    "\n",
    "1.\t(define (calculate-pi n) ...): Esta es la definición de la función calculate-pi, que toma un argumento n que es el número de términos de la serie de Leibniz que se van a sumar.\n",
    "\n",
    "2.\t(if (= n 0) 4 ...): Si n es igual a 0, la función devuelve 4, que es el primer término de la serie de Leibniz multiplicado por 4.\n",
    "\n",
    "3.\t(- (+ 4 (/ 1.0 (* 2 (- (* n 2) 1)))) (calculate-pi (- n 1))): Si n no es igual a 0, la función calcula el término actual de la serie como 4 dividido por el doble de n menos 1, suma este término a 4, y luego resta el resultado de llamar a sí misma con n menos 1, esto produce el efecto de alternar entre sumar y restar los términos de la serie."
   ]
  },
  {
   "cell_type": "code",
   "execution_count": 1,
   "id": "41eddb3d-13ba-4682-9351-84d0331292f6",
   "metadata": {},
   "outputs": [
    {
     "name": "stdout",
     "output_type": "stream",
     "text": [
      "Introduce la cantidad de iteraciones: "
     ]
    },
    {
     "name": "stdin",
     "output_type": "stream",
     "text": [
      " 100\n"
     ]
    },
    {
     "name": "stdout",
     "output_type": "stream",
     "text": [
      "El resultado es: 3.6085508870551832\n"
     ]
    }
   ],
   "source": [
    "(define (calculate-pi n)\n",
    "  (if (= n 0)\n",
    "      4\n",
    "      (- (+ 4 (/ 1.0 (* 2 (- (* n 2) 1)))) (calculate-pi (- n 1)))))\n",
    "\n",
    "(display \"Introduce la cantidad de iteraciones: \")\n",
    "(define iteraciones (read))\n",
    "(define resultado (calculate-pi iteraciones))\n",
    "(printf \"El resultado es: ~a\\n\" resultado)"
   ]
  },
  {
   "cell_type": "markdown",
   "id": "1af6f05c-a382-4450-90c4-7bc5f3bcbc77",
   "metadata": {},
   "source": [
    "Salida: La función devuelve una aproximación a pi en forma de punto flotante."
   ]
  }
 ],
 "metadata": {
  "kernelspec": {
   "display_name": "Racket",
   "language": "racket",
   "name": "racket"
  },
  "language_info": {
   "codemirror_mode": "scheme",
   "file_extension": ".rkt",
   "mimetype": "text/x-racket",
   "name": "Racket",
   "pygments_lexer": "racket",
   "version": "8.12"
  }
 },
 "nbformat": 4,
 "nbformat_minor": 5
}
