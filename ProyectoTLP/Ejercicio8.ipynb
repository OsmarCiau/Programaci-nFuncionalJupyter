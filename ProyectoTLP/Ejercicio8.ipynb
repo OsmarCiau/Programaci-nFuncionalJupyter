{
 "cells": [
  {
   "cell_type": "markdown",
   "id": "0aa75afd-6931-4b48-b5f9-7e1af3f3814c",
   "metadata": {},
   "source": [
    "8. Realizar una función recursiva que, dado un número entero, encuentra la suma de sus dígitos. "
   ]
  },
  {
   "cell_type": "markdown",
   "id": "c0cb4c5f-d12e-42e9-8cc6-b09a35342b4f",
   "metadata": {},
   "source": [
    "Entrada: La función toma un número entero n como argumento."
   ]
  },
  {
   "cell_type": "markdown",
   "id": "fda4c77d-a6b4-4be3-bc93-ea007bde253f",
   "metadata": {},
   "source": [
    "Cómo funciona el código:\n",
    "\n",
    "1.\tLa función suma-digitos verifica si n es menor que 10: Si n es menor que 10, entonces n solo tiene un dígito, por lo que la función devuelve n.\n",
    "\n",
    "2.\tSi n es mayor o igual que 10, la función suma-digitos calcula el residuo de la división de n por 10 utilizando la función remainder, este residuo es el último dígito de n.\n",
    "\n",
    "3.\tLa función suma-digitos luego llama a sí misma recursivamente con el cociente de la división de n por 10, que es n sin su último dígito, utilizando la función quotient.\n",
    "\n",
    "4.\tLa función suma-digitos suma el último dígito de n y el resultado de la llamada recursiva, y devuelve esta suma."
   ]
  },
  {
   "cell_type": "code",
   "execution_count": 2,
   "id": "8fa92ce8-46a5-49d9-a58d-3047564da12f",
   "metadata": {},
   "outputs": [
    {
     "name": "stdout",
     "output_type": "stream",
     "text": [
      "Introduce un número entero:"
     ]
    },
    {
     "name": "stdin",
     "output_type": "stream",
     "text": [
      " 123\n"
     ]
    },
    {
     "name": "stdout",
     "output_type": "stream",
     "text": [
      "La suma de los dígitos de 123 es: 6\n"
     ]
    }
   ],
   "source": [
    "(define (suma-digitos n)\n",
    "  (cond ((= n 0) 0)\n",
    "        (else (+ (remainder n 10) (suma-digitos (quotient n 10))))))\n",
    "\n",
    "(display \"Introduce un número entero:\")\n",
    "(define numero (read))\n",
    "\n",
    "(printf \"La suma de los dígitos de ~a es: ~a\\n\" numero (suma-digitos numero))"
   ]
  },
  {
   "cell_type": "markdown",
   "id": "390c1f3a-2dab-4032-b642-d66009ac8d49",
   "metadata": {},
   "source": [
    "Salida: La función devuelve la suma de los dígitos de n."
   ]
  }
 ],
 "metadata": {
  "kernelspec": {
   "display_name": "Racket",
   "language": "racket",
   "name": "racket"
  },
  "language_info": {
   "codemirror_mode": "scheme",
   "file_extension": ".rkt",
   "mimetype": "text/x-racket",
   "name": "Racket",
   "pygments_lexer": "racket",
   "version": "8.12"
  }
 },
 "nbformat": 4,
 "nbformat_minor": 5
}
