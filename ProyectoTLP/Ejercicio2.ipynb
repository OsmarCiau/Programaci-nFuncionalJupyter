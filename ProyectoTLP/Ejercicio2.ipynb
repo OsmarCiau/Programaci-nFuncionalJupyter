{
 "cells": [
  {
   "cell_type": "markdown",
   "id": "57ad61ec-50fd-4f93-bb85-c1ffa077df5f",
   "metadata": {},
   "source": [
    "2. Defina una función recursiva para calcular el Máximo Común Divisor de dos enteros\n",
    "negativos a y b con a < b usando el hecho de que MCD(a, b) = MCD(a, b-a)."
   ]
  },
  {
   "cell_type": "markdown",
   "id": "e6643c86-bc45-42ab-aedc-adaa55cb48f7",
   "metadata": {},
   "source": [
    "El problema consiste en calcular el máximo común divisor (MCD) de dos números enteros a y b, siendo el MCD de dos números el número más grande que puede dividir ambos números sin dejar residuo."
   ]
  },
  {
   "cell_type": "markdown",
   "id": "a4c9527c-52cd-4ffe-bfd8-bc562bb8537e",
   "metadata": {},
   "source": [
    "Entradas: La función mcd recibe dos argumentos:\n",
    "\n",
    "a: un número entero.\n",
    "\n",
    "b: otro número entero."
   ]
  },
  {
   "cell_type": "markdown",
   "id": "654b84a2-e47d-442a-914d-680728435385",
   "metadata": {},
   "source": [
    "Cómo funciona el código: La función utiliza lmaneja diferenctes casos dependiendo de las entradas, los cuales son los siguientes:\n",
    "\n",
    "1. Si b es igual a 0, la función devuelve a. Esto se debe a que el MCD de un número y 0 es el número mismo.\n",
    "\n",
    "2. Si a es un número negativo, la función realiza una llamada recursiva a sí misma con los argumentos -a y -b, esto se debe a que el MCD de a y b es el mismo que el MCD de -a y -b.\n",
    "\n",
    "3. Si b es un número negativo, la función realiza una llamada recursiva a sí misma con los argumentos a y -b, esto por que el MCD de a y b es el mismo que el MCD de a y -b.\n",
    "\n",
    "4. En todos los demás casos, la función realiza una llamada recursiva a sí misma con los argumentos b y b - a, esto se basa en el algoritmo de Euclides para calcular el MCD que es el que se nos pide en el enunciado."
   ]
  },
  {
   "cell_type": "code",
   "execution_count": 1,
   "id": "49d85618-eceb-4f55-a6ae-d84583b97189",
   "metadata": {},
   "outputs": [
    {
     "name": "stdout",
     "output_type": "stream",
     "text": [
      "Introduce el primer número (a): "
     ]
    },
    {
     "name": "stdin",
     "output_type": "stream",
     "text": [
      " 4\n"
     ]
    },
    {
     "name": "stdout",
     "output_type": "stream",
     "text": [
      "Introduce el segundo número (b): "
     ]
    },
    {
     "name": "stdin",
     "output_type": "stream",
     "text": [
      " 5\n"
     ]
    },
    {
     "name": "stdout",
     "output_type": "stream",
     "text": [
      "El MCD de 4 y 5 es: 1\n"
     ]
    }
   ],
   "source": [
    "(define (mcd a b)\n",
    "  (cond\n",
    "    ((= b 0) a)\n",
    "    ((< a 0) (mcd (- a) (- b)))\n",
    "    ((< b 0) (mcd a (- b)))\n",
    "    (else (mcd b (- b a)))))\n",
    "\n",
    "(display \"Introduce el primer número (a): \")\n",
    "(define a (read))\n",
    "\n",
    "(display \"Introduce el segundo número (b): \")\n",
    "(define b (read))\n",
    "\n",
    "(printf \"El MCD de ~a y ~a es: ~a\\n\" a b (mcd a b))"
   ]
  },
  {
   "cell_type": "markdown",
   "id": "0b0094cb-2073-4e6e-bb65-2d95102d16a8",
   "metadata": {},
   "source": [
    "Salida: La función devuelve el MCD de a y b."
   ]
  }
 ],
 "metadata": {
  "kernelspec": {
   "display_name": "Racket",
   "language": "racket",
   "name": "racket"
  },
  "language_info": {
   "codemirror_mode": "scheme",
   "file_extension": ".rkt",
   "mimetype": "text/x-racket",
   "name": "Racket",
   "pygments_lexer": "racket",
   "version": "8.12"
  }
 },
 "nbformat": 4,
 "nbformat_minor": 5
}
