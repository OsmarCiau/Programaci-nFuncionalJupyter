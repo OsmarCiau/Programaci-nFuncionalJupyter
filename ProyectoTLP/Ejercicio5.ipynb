{
 "cells": [
  {
   "cell_type": "markdown",
   "id": "a0c57a18-ce92-4250-8f57-e06727a761f8",
   "metadata": {},
   "source": [
    "5. Realizar una función recursiva que invierta una lista."
   ]
  },
  {
   "cell_type": "markdown",
   "id": "9ae52534-be5b-4e0b-8392-08ca6bff75cd",
   "metadata": {},
   "source": [
    "Entradas: La función 'invierte' toma una lista como argumento."
   ]
  },
  {
   "cell_type": "markdown",
   "id": "9ff8c86e-c98a-4b67-8d69-31079d994f1c",
   "metadata": {},
   "source": [
    "Cómo funciona el código:\n",
    "\n",
    "1.\tLa función invierte verifica si la lista está vacía utilizando la función null?. Si la lista está vacía, devuelve una lista vacía.\n",
    "\n",
    "2.\tSi la lista no está vacía, la función invierte se llama a sí misma recursivamente con el resto de la lista, es decir, la lista sin el primer elemento, esto produce una lista invertida de todos los elementos excepto el primero.\n",
    "\n",
    "3.\tLa función invierte luego añade el primer elemento de la lista al final de la lista invertida utilizando la función append.\n",
    "   \n",
    "4.\tEste proceso se repite hasta que todos los elementos de la lista original se han movido al final de la lista invertida, en el orden inverso."
   ]
  },
  {
   "cell_type": "code",
   "execution_count": 1,
   "id": "73312866-eeae-4020-a830-cbf52814987d",
   "metadata": {},
   "outputs": [
    {
     "data": {
      "text/html": [
       "<code>'(5 8 7 4 2)</code>"
      ],
      "text/plain": [
       "'(5 8 7 4 2)"
      ]
     },
     "execution_count": 1,
     "metadata": {},
     "output_type": "execute_result"
    }
   ],
   "source": [
    "(define (invierte lista)\n",
    "  (if (null? lista)\n",
    "      '()\n",
    "      (append (invierte (cdr lista)) (list (car lista)))))\n",
    "\n",
    "(invierte '(2 4 7 8 5))"
   ]
  },
  {
   "cell_type": "markdown",
   "id": "a50c76ce-f882-4ed0-8b3c-2dcfbfd912ed",
   "metadata": {},
   "source": [
    "Salida: La función devuelve una nueva lista que contiene los mismos elementos que la lista original, pero en el orden inverso."
   ]
  }
 ],
 "metadata": {
  "kernelspec": {
   "display_name": "Racket",
   "language": "racket",
   "name": "racket"
  },
  "language_info": {
   "codemirror_mode": "scheme",
   "file_extension": ".rkt",
   "mimetype": "text/x-racket",
   "name": "Racket",
   "pygments_lexer": "racket",
   "version": "8.12"
  }
 },
 "nbformat": 4,
 "nbformat_minor": 5
}
