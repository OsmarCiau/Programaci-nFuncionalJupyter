{
 "cells": [
  {
   "cell_type": "markdown",
   "id": "1212f76a-65a1-42af-8157-60bc32b2a410",
   "metadata": {},
   "source": [
    "1. Defina una función para la evaluación del número combinatorio C(n,k), que utiliza la\n",
    "definición recursiva"
   ]
  },
  {
   "cell_type": "markdown",
   "id": "2bc9af60-f769-442e-9a34-4edf7ae5d87e",
   "metadata": {},
   "source": [
    "El ejercicio consiste en utilizar la recursividad para poder encontrar la combinatoria de 'n' a 'k', utilizando la definición recursiva C(n, k) = C(n-1, k-1) + C(n-1, k)."
   ]
  },
  {
   "cell_type": "markdown",
   "id": "5b2e9bec-2163-4bda-8cee-4571b749f0e1",
   "metadata": {},
   "source": [
    "Entradas: La función recibe dos argumentos:\n",
    "\n",
    "-n: un número entero que representa el número total de elementos.\n",
    "\n",
    "-k: un número entero que representa el número de elementos a seleccionar de n."
   ]
  },
  {
   "cell_type": "markdown",
   "id": "d7857838-f76e-4357-9b4c-5efa4df3b941",
   "metadata": {},
   "source": [
    "Cómo funciona el código: La función utiliza la estructura de control cond para manejar diferentes casos:\n",
    "\n",
    "-Si n es menor que 0, k es menor que 0, o k es mayor que n, la función devuelve 0. Esto se debe a que el número combinatorio no está definido para estos casos.\n",
    "\n",
    "Si k es igual a 0 o k es igual a n, la función devuelve 1. Esto se debe a que hay una sola forma de seleccionar 0 elementos o todos los elementos de un conjunto.\n",
    "\n",
    "-En todos los demás casos, la función realiza una llamada recursiva a sí misma con los argumentos n-1 y k-1, y n-1 y k, y suma los resultados. Esto se basa en la definición recursiva del número combinatorio."
   ]
  },
  {
   "cell_type": "code",
   "execution_count": 1,
   "id": "86e6dd9e-3ca7-4c25-bcd3-7c141c47f426",
   "metadata": {},
   "outputs": [
    {
     "name": "stdout",
     "output_type": "stream",
     "text": [
      "Introduce el primer número (n): "
     ]
    },
    {
     "name": "stdin",
     "output_type": "stream",
     "text": [
      " 5\n"
     ]
    },
    {
     "name": "stdout",
     "output_type": "stream",
     "text": [
      "Introduce el segundo número (k): "
     ]
    },
    {
     "name": "stdin",
     "output_type": "stream",
     "text": [
      " 1\n"
     ]
    },
    {
     "name": "stdout",
     "output_type": "stream",
     "text": [
      "El número combinatorio de 5 y 1 es: 5\n"
     ]
    }
   ],
   "source": [
    "(define (combinatorio n k)\n",
    "  (cond\n",
    "    [(or (< n 0) (< k 0) (> k n)) 0]\n",
    "    [(or (= k 0) (= k n)) 1]\n",
    "    [else (+ (combinatorio (- n 1) (- k 1)) (combinatorio (- n 1) k))]))\n",
    "\n",
    "(display \"Introduce el primer número (n): \")\n",
    "(define n (read))\n",
    "\n",
    "(display \"Introduce el segundo número (k): \")\n",
    "(define k (read))\n",
    "\n",
    "(printf \"El número combinatorio de ~a y ~a es: ~a\\n\" n k (combinatorio n k))"
   ]
  },
  {
   "cell_type": "markdown",
   "id": "6e156244-2772-4494-8ac6-6d6a17e9a5ba",
   "metadata": {},
   "source": [
    "Salida: La función devuelve el número combinatorio C(n, k) que es el número de formas en que se pueden seleccionar k elementos de un conjunto de n elementos."
   ]
  }
 ],
 "metadata": {
  "kernelspec": {
   "display_name": "Racket",
   "language": "racket",
   "name": "racket"
  },
  "language_info": {
   "codemirror_mode": "scheme",
   "file_extension": ".rkt",
   "mimetype": "text/x-racket",
   "name": "Racket",
   "pygments_lexer": "racket",
   "version": "8.12"
  }
 },
 "nbformat": 4,
 "nbformat_minor": 5
}
