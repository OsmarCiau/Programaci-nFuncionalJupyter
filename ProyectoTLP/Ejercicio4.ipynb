{
 "cells": [
  {
   "cell_type": "markdown",
   "id": "087af7b7-a9b7-4e34-83cb-aaa4eba182d7",
   "metadata": {},
   "source": [
    "4. Realizar una función para buscar un elemento en una lista, regresar #t si lo encontró y #f si \n",
    "no lo encontró."
   ]
  },
  {
   "cell_type": "markdown",
   "id": "11e0b269-5757-4ed6-96e9-18e405a56e3c",
   "metadata": {},
   "source": [
    "El problema consiste en buscar un elemento específico en una lista y devolver #t si el elemento se encuentra en la lista y #f si no se encuentra."
   ]
  },
  {
   "cell_type": "markdown",
   "id": "77d59147-5738-4a79-a401-98c9ec2531ad",
   "metadata": {},
   "source": [
    "Entradas: La función toma dos argumentos: elemento, que es el elemento que se busca, y lista, que es la lista en la que se busca el elemento."
   ]
  },
  {
   "cell_type": "markdown",
   "id": "5f91b394-bb5d-40f2-a9cf-ca8fea151e4f",
   "metadata": {},
   "source": [
    "Cómo funciona el código:\n",
    "\n",
    "1. La función utiliza la función incorporada member para buscar el elemento en la lista, la función member devuelve una lista que comienza con el elemento si el elemento se encuentra en la lista, y #f si no se encuentra.\n",
    "\n",
    "2. La función utiliza la instrucción if para verificar el resultado de la función member, si member devuelve un valor que no es #f, entonces el elemento está en la lista y la función 'busca' devuelve #t. Si member devuelve #f, entonces el elemento no está en la lista y la función 'busca' devuelve #f."
   ]
  },
  {
   "cell_type": "code",
   "execution_count": 1,
   "id": "243597ff-1309-455c-a6ac-b77a299d17fc",
   "metadata": {},
   "outputs": [
    {
     "data": {
      "text/html": [
       "<code>#f</code>"
      ],
      "text/plain": [
       "#f"
      ]
     },
     "execution_count": 1,
     "metadata": {},
     "output_type": "execute_result"
    }
   ],
   "source": [
    "(define (busca elemento lista)\n",
    "  (if (member elemento lista)\n",
    "      #t\n",
    "      #f))\n",
    "\n",
    "(busca 7 '(2 4 5))"
   ]
  },
  {
   "cell_type": "markdown",
   "id": "7b9e74ec-520a-40d0-864f-5dc3280e71a0",
   "metadata": {},
   "source": [
    "Salida: El programa devuelve #t de true si encuentra el elemento a buscar, en caso contrario devuelve #f de false."
   ]
  }
 ],
 "metadata": {
  "kernelspec": {
   "display_name": "Racket",
   "language": "racket",
   "name": "racket"
  },
  "language_info": {
   "codemirror_mode": "scheme",
   "file_extension": ".rkt",
   "mimetype": "text/x-racket",
   "name": "Racket",
   "pygments_lexer": "racket",
   "version": "8.12"
  }
 },
 "nbformat": 4,
 "nbformat_minor": 5
}
