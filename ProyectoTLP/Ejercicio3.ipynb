{
 "cells": [
  {
   "cell_type": "markdown",
   "id": "336b7764-4b13-49a8-b28c-e4b78ae03b6e",
   "metadata": {},
   "source": [
    "3. Definir una función que devuelva, en una lista, todos los números primos desde un número \n",
    "inicial hasta un número final, ejemplo: (primos 3 10) este ejemplo devolverá ‘(5 7)."
   ]
  },
  {
   "cell_type": "markdown",
   "id": "e2fe53aa-256c-4ee3-acc9-e14cbe90d91d",
   "metadata": {},
   "source": [
    "Entradas: El usuario proporciona dos números enteros, inicio y fin, que definen el rango en el que se buscarán los números primos."
   ]
  },
  {
   "cell_type": "markdown",
   "id": "16805a13-600f-4432-8906-7873dc4f1eae",
   "metadata": {},
   "source": [
    "Cómo funciona el código:\n",
    "\n",
    "1. La función es-primo? verifica si un número n es primo. Comienza probando divisores desde 2 hasta la raíz cuadrada de n. Si encuentra un divisor, devuelve #f (falso), si no encuentra ningún divisor, devuelve #t (verdadero).\n",
    "\n",
    "2. La función primos genera todos los números primos en el rango dado, excluyendo inicio y fin. Comienza desde inicio + 1 y verifica cada número hasta fin - 1. Si el número es primo, lo agrega a la lista, si no es primo, simplemente pasa al siguiente número.\n",
    "\n",
    "3. El programa solicita al usuario que introduzca los valores de inicio y fin.\n",
    "\n",
    "4. Finalmente, el programa imprime la lista de todos los números primos en el rango especificado, utilizando la función primos."
   ]
  },
  {
   "cell_type": "code",
   "execution_count": 1,
   "id": "8822f358-92f8-4e17-ab37-f6ac84cab25b",
   "metadata": {},
   "outputs": [
    {
     "name": "stdout",
     "output_type": "stream",
     "text": [
      "Introduce el número inicial: "
     ]
    },
    {
     "name": "stdin",
     "output_type": "stream",
     "text": [
      " 3\n"
     ]
    },
    {
     "name": "stdout",
     "output_type": "stream",
     "text": [
      "Introduce el número final: "
     ]
    },
    {
     "name": "stdin",
     "output_type": "stream",
     "text": [
      " 13\n"
     ]
    },
    {
     "name": "stdout",
     "output_type": "stream",
     "text": [
      "Los números primos entre 3 y 13 son: (5 7 11)\n"
     ]
    }
   ],
   "source": [
    "(define (es-primo? n)\n",
    "  (define (auxiliar i)\n",
    "    (cond\n",
    "      [(> i (sqrt n)) #t]\n",
    "      [(= (remainder n i) 0) #f]\n",
    "      [else (auxiliar (+ i 1))]))\n",
    "  (auxiliar 2))\n",
    "\n",
    "(define (primos inicio fin)\n",
    "  (define (auxiliar i)\n",
    "    (cond\n",
    "      [(>= i fin) '()]\n",
    "      [(es-primo? i) (cons i (auxiliar (+ i 1)))]\n",
    "      [else (auxiliar (+ i 1))]))\n",
    "  (auxiliar (+ inicio 1)))\n",
    "\n",
    "(display \"Introduce el número inicial: \")\n",
    "(define inicio (read))\n",
    "\n",
    "(display \"Introduce el número final: \")\n",
    "(define fin (read))\n",
    "\n",
    "(printf \"Los números primos entre ~a y ~a son: ~a\\n\" inicio fin (primos inicio fin))"
   ]
  },
  {
   "cell_type": "markdown",
   "id": "7492a1a7-6cd6-4207-bb84-b4c9307207d1",
   "metadata": {},
   "source": [
    "Salida: El programa imprime una lista de todos los números primos en el rango especificado, excluyendo inicio y fin."
   ]
  }
 ],
 "metadata": {
  "kernelspec": {
   "display_name": "Racket",
   "language": "racket",
   "name": "racket"
  },
  "language_info": {
   "codemirror_mode": "scheme",
   "file_extension": ".rkt",
   "mimetype": "text/x-racket",
   "name": "Racket",
   "pygments_lexer": "racket",
   "version": "8.12"
  }
 },
 "nbformat": 4,
 "nbformat_minor": 5
}
